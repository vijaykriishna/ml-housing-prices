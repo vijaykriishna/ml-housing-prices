{
  "nbformat": 4,
  "nbformat_minor": 0,
  "metadata": {
    "kernelspec": {
      "display_name": "Python 3",
      "language": "python",
      "name": "python3"
    },
    "language_info": {
      "codemirror_mode": {
        "name": "ipython",
        "version": 3
      },
      "file_extension": ".py",
      "mimetype": "text/x-python",
      "name": "python",
      "nbconvert_exporter": "python",
      "pygments_lexer": "ipython3",
      "version": "3.7.6"
    },
    "papermill": {
      "duration": 7.351941,
      "end_time": "2020-09-13T11:37:37.002941",
      "environment_variables": {},
      "exception": null,
      "input_path": "__notebook__.ipynb",
      "output_path": "__notebook__.ipynb",
      "parameters": {},
      "start_time": "2020-09-13T11:37:29.651000",
      "version": "2.1.0"
    },
    "colab": {
      "name": "housing_prices.ipynb",
      "provenance": [],
      "collapsed_sections": [],
      "include_colab_link": true
    }
  },
  "cells": [
    {
      "cell_type": "markdown",
      "metadata": {
        "id": "view-in-github",
        "colab_type": "text"
      },
      "source": [
        "<a href=\"https://colab.research.google.com/github/vijaykriishna/ml-housing-prices/blob/master/housing_prices.ipynb\" target=\"_parent\"><img src=\"https://colab.research.google.com/assets/colab-badge.svg\" alt=\"Open In Colab\"/></a>"
      ]
    },
    {
      "cell_type": "markdown",
      "metadata": {
        "papermill": {
          "duration": 0.006119,
          "end_time": "2020-09-13T11:37:33.984811",
          "exception": false,
          "start_time": "2020-09-13T11:37:33.978692",
          "status": "completed"
        },
        "tags": [],
        "id": "qAbToym-WMb2",
        "colab_type": "text"
      },
      "source": [
        "The steps in this notebook are:\n",
        "1. Build a Random Forest model with all of your data (**X** and **y**)\n",
        "2. Read in the \"test\" data, which doesn't include values for the target.  Predict home values in the test data with your Random Forest model.\n",
        "3. Submit those predictions to the competition and see your score.\n",
        "4. Optionally, come back to see if you can improve your model by adding features or changing your model. Then you can resubmit to see how that stacks up on the competition leaderboard."
      ]
    },
    {
      "cell_type": "code",
      "metadata": {
        "execution": {
          "iopub.execute_input": "2020-09-13T11:37:34.023562Z",
          "iopub.status.busy": "2020-09-13T11:37:34.022749Z",
          "iopub.status.idle": "2020-09-13T11:37:35.788066Z",
          "shell.execute_reply": "2020-09-13T11:37:35.787389Z"
        },
        "papermill": {
          "duration": 1.784416,
          "end_time": "2020-09-13T11:37:35.788203",
          "exception": false,
          "start_time": "2020-09-13T11:37:34.003787",
          "status": "completed"
        },
        "tags": [],
        "id": "iWMq6AZTWMb3",
        "colab_type": "code",
        "colab": {
          "base_uri": "https://localhost:8080/",
          "height": 68
        },
        "outputId": "a6a4b7a1-5c40-45d7-e02e-d99cac94f682"
      },
      "source": [
        "# Code you have previously used to load data\n",
        "import pandas as pd\n",
        "from sklearn.ensemble import RandomForestRegressor\n",
        "from sklearn.metrics import mean_absolute_error\n",
        "from sklearn.model_selection import train_test_split\n",
        "from sklearn.tree import DecisionTreeRegressor\n",
        "\n",
        "# Set up code checking\n",
        "import os\n",
        "if not os.path.exists(\"/content/input/train.csv\"):\n",
        "    os.symlink(\"/content/input/train.csv\", \"/content/input/train.csv\")  \n",
        "    os.symlink(\"/content/input/test.csv\", \"/content/input/test.csv\") \n",
        "\n",
        "# Path of the file to read.\n",
        "iowa_file_path = '/content/input/train.csv'\n",
        "\n",
        "home_data = pd.read_csv(iowa_file_path)\n",
        "# Create target object and call it y\n",
        "y = home_data.SalePrice\n",
        "# Create X\n",
        "features = ['LotArea', 'YearBuilt', '1stFlrSF', '2ndFlrSF', 'FullBath', 'BedroomAbvGr', 'TotRmsAbvGrd']\n",
        "X = home_data[features]\n",
        "\n",
        "# Split into validation and training data\n",
        "train_X, val_X, train_y, val_y = train_test_split(X, y, random_state=1)\n",
        "\n",
        "# Specify Model\n",
        "iowa_model = DecisionTreeRegressor(random_state=1)\n",
        "# Fit Model\n",
        "iowa_model.fit(train_X, train_y)\n",
        "\n",
        "# Make validation predictions and calculate mean absolute error\n",
        "val_predictions = iowa_model.predict(val_X)\n",
        "val_mae = mean_absolute_error(val_predictions, val_y)\n",
        "print(\"Validation MAE when not specifying max_leaf_nodes: {:,.0f}\".format(val_mae))\n",
        "\n",
        "# Using best value for max_leaf_nodes\n",
        "iowa_model = DecisionTreeRegressor(max_leaf_nodes=100, random_state=1)\n",
        "iowa_model.fit(train_X, train_y)\n",
        "val_predictions = iowa_model.predict(val_X)\n",
        "val_mae = mean_absolute_error(val_predictions, val_y)\n",
        "print(\"Validation MAE for best value of max_leaf_nodes: {:,.0f}\".format(val_mae))\n",
        "\n",
        "# Define the model. Set random_state to 1\n",
        "rf_model = RandomForestRegressor(random_state=1)\n",
        "rf_model.fit(train_X, train_y)\n",
        "rf_val_predictions = rf_model.predict(val_X)\n",
        "rf_val_mae = mean_absolute_error(rf_val_predictions, val_y)\n",
        "\n",
        "print(\"Validation MAE for Random Forest Model: {:,.0f}\".format(rf_val_mae))"
      ],
      "execution_count": 15,
      "outputs": [
        {
          "output_type": "stream",
          "text": [
            "Validation MAE when not specifying max_leaf_nodes: 29,653\n",
            "Validation MAE for best value of max_leaf_nodes: 27,283\n",
            "Validation MAE for Random Forest Model: 21,857\n"
          ],
          "name": "stdout"
        }
      ]
    },
    {
      "cell_type": "markdown",
      "metadata": {
        "papermill": {
          "duration": 0.006752,
          "end_time": "2020-09-13T11:37:35.802531",
          "exception": false,
          "start_time": "2020-09-13T11:37:35.795779",
          "status": "completed"
        },
        "tags": [],
        "id": "_BYCkpw8WMb6",
        "colab_type": "text"
      },
      "source": [
        "# Creating a Model\n",
        "\n",
        "Build a Random Forest model and train it on all of **X** and **y**."
      ]
    },
    {
      "cell_type": "code",
      "metadata": {
        "execution": {
          "iopub.execute_input": "2020-09-13T11:37:35.838433Z",
          "iopub.status.busy": "2020-09-13T11:37:35.822755Z",
          "iopub.status.idle": "2020-09-13T11:37:36.359260Z",
          "shell.execute_reply": "2020-09-13T11:37:36.358628Z"
        },
        "papermill": {
          "duration": 0.549892,
          "end_time": "2020-09-13T11:37:36.359374",
          "exception": false,
          "start_time": "2020-09-13T11:37:35.809482",
          "status": "completed"
        },
        "tags": [],
        "id": "xg8dWZ3xWMb6",
        "colab_type": "code",
        "colab": {
          "base_uri": "https://localhost:8080/",
          "height": 136
        },
        "outputId": "e6bdfb26-a972-4201-99c5-c561d96ffea5"
      },
      "source": [
        "# To improve accuracy, create a new Random Forest model which you will train on all training data\n",
        "rf_model_on_full_data = RandomForestRegressor(random_state=1)\n",
        "\n",
        "# fit rf_model_on_full_data on all data from the training data\n",
        "rf_model_on_full_data.fit(X, y)"
      ],
      "execution_count": 16,
      "outputs": [
        {
          "output_type": "execute_result",
          "data": {
            "text/plain": [
              "RandomForestRegressor(bootstrap=True, ccp_alpha=0.0, criterion='mse',\n",
              "                      max_depth=None, max_features='auto', max_leaf_nodes=None,\n",
              "                      max_samples=None, min_impurity_decrease=0.0,\n",
              "                      min_impurity_split=None, min_samples_leaf=1,\n",
              "                      min_samples_split=2, min_weight_fraction_leaf=0.0,\n",
              "                      n_estimators=100, n_jobs=None, oob_score=False,\n",
              "                      random_state=1, verbose=0, warm_start=False)"
            ]
          },
          "metadata": {
            "tags": []
          },
          "execution_count": 16
        }
      ]
    },
    {
      "cell_type": "markdown",
      "metadata": {
        "papermill": {
          "duration": 0.007193,
          "end_time": "2020-09-13T11:37:36.375432",
          "exception": false,
          "start_time": "2020-09-13T11:37:36.368239",
          "status": "completed"
        },
        "tags": [],
        "id": "3s_8H7AGWMb9",
        "colab_type": "text"
      },
      "source": [
        "# Make Predictions\n",
        "Read the file of \"test\" data. And apply your model to make predictions"
      ]
    },
    {
      "cell_type": "code",
      "metadata": {
        "execution": {
          "iopub.execute_input": "2020-09-13T11:37:36.399078Z",
          "iopub.status.busy": "2020-09-13T11:37:36.398071Z",
          "iopub.status.idle": "2020-09-13T11:37:36.812072Z",
          "shell.execute_reply": "2020-09-13T11:37:36.811328Z"
        },
        "papermill": {
          "duration": 0.429362,
          "end_time": "2020-09-13T11:37:36.812219",
          "exception": false,
          "start_time": "2020-09-13T11:37:36.382857",
          "status": "completed"
        },
        "tags": [],
        "id": "uooUywjdWMb9",
        "colab_type": "code",
        "colab": {}
      },
      "source": [
        "# path to file you will use for predictions\n",
        "test_data_path = '/content/input/test.csv'\n",
        "\n",
        "# read test data file using pandas\n",
        "test_data = pd.read_csv(test_data_path)\n",
        "\n",
        "# create test_X which comes from test_data but includes only the columns you used for prediction.\n",
        "# The list of columns is stored in a variable called features\n",
        "test_X = test_data[features]\n",
        "\n",
        "# make predictions which we will submit. \n",
        "test_preds = rf_model_on_full_data.predict(test_X)\n",
        "\n",
        "# The lines below shows how to save predictions in a format\n",
        "\n",
        "output = pd.DataFrame({'Id': test_data.Id,\n",
        "                      'SalePrice': test_preds})\n",
        "output.to_csv('submission.csv', index=False)"
      ],
      "execution_count": 17,
      "outputs": []
    },
    {
      "cell_type": "markdown",
      "metadata": {
        "papermill": {
          "duration": 0.007286,
          "end_time": "2020-09-13T11:37:36.827158",
          "exception": false,
          "start_time": "2020-09-13T11:37:36.819872",
          "status": "completed"
        },
        "tags": [],
        "id": "ofwstwUxWMb_",
        "colab_type": "text"
      },
      "source": [
        "Before submitting, run a check to make sure your `test_preds` have the right format."
      ]
    }
  ]
}